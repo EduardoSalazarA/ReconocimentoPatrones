{
  "nbformat": 4,
  "nbformat_minor": 0,
  "metadata": {
    "colab": {
      "provenance": []
    },
    "kernelspec": {
      "name": "python3",
      "display_name": "Python 3"
    },
    "language_info": {
      "name": "python"
    }
  },
  "cells": [
    {
      "cell_type": "code",
      "execution_count": 11,
      "metadata": {
        "colab": {
          "base_uri": "https://localhost:8080/"
        },
        "id": "-C-tLSba_UuY",
        "outputId": "5e182b1c-d19b-4f85-9633-875b05d04d5a"
      },
      "outputs": [
        {
          "output_type": "stream",
          "name": "stdout",
          "text": [
            "[-2, -4, -6, -8, -10]\n"
          ]
        }
      ],
      "source": [
        "#Salazar Aguilar Luis Eduardo\n",
        "#1\n",
        "numeros = [1, -2, 3, -4, 5, -6, 7, -8, 9, -10]\n",
        "negativos = []\n",
        "\n",
        "for numero in numeros:\n",
        "    if numero < 0:\n",
        "        negativos.append(numero)\n",
        "\n",
        "print(negativos)\n"
      ]
    },
    {
      "cell_type": "code",
      "source": [
        "#2\n",
        "import random\n",
        "\n",
        "def generar_matriz():\n",
        "    matriz = []\n",
        "    for i in range(3):\n",
        "        fila = []\n",
        "        for j in range(3):\n",
        "            fila.append(random.uniform(0.0, 10.0))\n",
        "        matriz.append(fila)\n",
        "    return matriz\n",
        "\n",
        "matriz = generar_matriz()\n",
        "print(matriz)\n"
      ],
      "metadata": {
        "colab": {
          "base_uri": "https://localhost:8080/"
        },
        "id": "sZjixqAO_9aT",
        "outputId": "a4c78d07-46cf-4b14-b7e4-1119a55671f6"
      },
      "execution_count": 3,
      "outputs": [
        {
          "output_type": "stream",
          "name": "stdout",
          "text": [
            "[[7.958371386382529, 6.764458953689282, 9.47189781185132], [0.18381827631394176, 5.67127502224931, 6.152274143510152], [9.181902993847832, 2.816078646186111, 5.100391620813806]]\n"
          ]
        }
      ]
    },
    {
      "cell_type": "code",
      "source": [
        "#3\n",
        "import numpy as np\n",
        "\n",
        "A = np.array([[1, 2, 3], [4, 5, 6], [7, 8, 9]])\n",
        "B = np.array([[1], [2], [3]])\n",
        "C = np.array([[4], [5], [6]])\n",
        "\n",
        "resultado = np.dot(A, B) + C\n",
        "\n",
        "print(resultado)\n"
      ],
      "metadata": {
        "colab": {
          "base_uri": "https://localhost:8080/"
        },
        "id": "tjgbdRCZ_9qs",
        "outputId": "4614501a-0ce8-49eb-9a5f-eeb6b3e73400"
      },
      "execution_count": 4,
      "outputs": [
        {
          "output_type": "stream",
          "name": "stdout",
          "text": [
            "[[18]\n",
            " [37]\n",
            " [56]]\n"
          ]
        }
      ]
    },
    {
      "cell_type": "code",
      "source": [
        "#4\n",
        "numeros = list(range(1, 101))\n",
        "\n",
        "for i in range(len(numeros)):\n",
        "    if numeros[i] % 3 == 0:\n",
        "        numeros[i] = \"m3\"\n",
        "\n",
        "print(numeros)\n"
      ],
      "metadata": {
        "colab": {
          "base_uri": "https://localhost:8080/"
        },
        "id": "meZ_s6MC_9yo",
        "outputId": "ede609d9-2c15-498b-fb5d-71eb649fdc3a"
      },
      "execution_count": 5,
      "outputs": [
        {
          "output_type": "stream",
          "name": "stdout",
          "text": [
            "[1, 2, 'm3', 4, 5, 'm3', 7, 8, 'm3', 10, 11, 'm3', 13, 14, 'm3', 16, 17, 'm3', 19, 20, 'm3', 22, 23, 'm3', 25, 26, 'm3', 28, 29, 'm3', 31, 32, 'm3', 34, 35, 'm3', 37, 38, 'm3', 40, 41, 'm3', 43, 44, 'm3', 46, 47, 'm3', 49, 50, 'm3', 52, 53, 'm3', 55, 56, 'm3', 58, 59, 'm3', 61, 62, 'm3', 64, 65, 'm3', 67, 68, 'm3', 70, 71, 'm3', 73, 74, 'm3', 76, 77, 'm3', 79, 80, 'm3', 82, 83, 'm3', 85, 86, 'm3', 88, 89, 'm3', 91, 92, 'm3', 94, 95, 'm3', 97, 98, 'm3', 100]\n"
          ]
        }
      ]
    },
    {
      "cell_type": "code",
      "source": [
        "#5\n",
        "import numpy as np\n",
        "traza = np.trace(resultado.T)\n",
        "\n",
        "print(traza)\n"
      ],
      "metadata": {
        "colab": {
          "base_uri": "https://localhost:8080/"
        },
        "id": "wzemhXxN_94G",
        "outputId": "a1cad8a1-9c4b-4cb1-c43d-691df63866ff"
      },
      "execution_count": 6,
      "outputs": [
        {
          "output_type": "stream",
          "name": "stdout",
          "text": [
            "18\n"
          ]
        }
      ]
    },
    {
      "cell_type": "code",
      "source": [
        "#6\n",
        "pregunta = \"Si eliminamos la letra “a” de la pregunta anterior cuántas letras se obtienen.\"\n",
        "pregunta_sin_a = pregunta.replace(\"a\", \"\")\n",
        "cantidad_letras = len(pregunta_sin_a)\n",
        "\n",
        "print(cantidad_letras)\n"
      ],
      "metadata": {
        "colab": {
          "base_uri": "https://localhost:8080/"
        },
        "id": "kJpaw0O6BUY5",
        "outputId": "4f9a7ac8-b703-4d42-8ba8-ebd436a5d581"
      },
      "execution_count": 7,
      "outputs": [
        {
          "output_type": "stream",
          "name": "stdout",
          "text": [
            "69\n"
          ]
        }
      ]
    },
    {
      "cell_type": "code",
      "source": [
        "#7\n",
        "texto = \"Crea una lista de 10 números e imprime los valores negativos en otra lista. Escribe una matriz de 3x3 con números float distintos. Crea una matriz A de 3x3 y 2 matrices (B y C) de 3x1 con números enteros distintos y calcula AxB+C. Disponer de números enteros desde el 1 hasta el 100 y cambiar los múltiplos de 3 por el string “m3”. Recorriendo la matriz A del ejercicio 3, calcular la traza de la matriz transpuesta. Si eliminamos la letra “a” de la pregunta anterior cuántas letras se obtienen.\"\n",
        "palabras = texto.split()\n",
        "frecuencias = {}\n",
        "\n",
        "for palabra in palabras:\n",
        "    if palabra in frecuencias:\n",
        "        frecuencias[palabra] += 1\n",
        "    else:\n",
        "        frecuencias[palabra] = 1\n",
        "\n",
        "palabra_mas_frecuente = max(frecuencias, key=frecuencias.get)\n",
        "\n",
        "print(\"La palabra más frecuente es:\", palabra_mas_frecuente, \"con una frecuencia de\", frecuencias[palabra_mas_frecuente], \"veces.\")\n"
      ],
      "metadata": {
        "colab": {
          "base_uri": "https://localhost:8080/"
        },
        "id": "52hAxra7BUgQ",
        "outputId": "d0617b9e-ab68-47a8-9baa-09d793bdc0e0"
      },
      "execution_count": 8,
      "outputs": [
        {
          "output_type": "stream",
          "name": "stdout",
          "text": [
            "La palabra más frecuente es: de con una frecuencia de 8 veces.\n"
          ]
        }
      ]
    },
    {
      "cell_type": "code",
      "source": [
        "#8\n",
        "import pandas as pd\n",
        "import random\n",
        "\n",
        "palabras = [\"ligando\", \"proteína\", \"adn\"]\n",
        "data = []\n",
        "\n",
        "for i in range(10):\n",
        "    fila = [random.choice(palabras), random.choice(palabras), random.choice(palabras)]\n",
        "    data.append(fila)\n",
        "\n",
        "df = pd.DataFrame(data, columns=[\"Columna 1\", \"Columna 2\", \"Columna 3\"])\n",
        "df.loc[df[\"Columna 2\"] == \"adn\", \"Columna 2\"] = \"docking\"\n",
        "\n",
        "print(df)\n"
      ],
      "metadata": {
        "colab": {
          "base_uri": "https://localhost:8080/"
        },
        "id": "g0ldckOoBVAQ",
        "outputId": "afe187aa-fc9b-4f6d-8362-bc6361154d2b"
      },
      "execution_count": 9,
      "outputs": [
        {
          "output_type": "stream",
          "name": "stdout",
          "text": [
            "  Columna 1 Columna 2 Columna 3\n",
            "0   ligando   ligando       adn\n",
            "1       adn  proteína  proteína\n",
            "2  proteína   docking   ligando\n",
            "3  proteína   ligando       adn\n",
            "4       adn  proteína  proteína\n",
            "5   ligando   docking       adn\n",
            "6   ligando   docking   ligando\n",
            "7       adn   ligando   ligando\n",
            "8       adn   docking  proteína\n",
            "9   ligando   docking       adn\n"
          ]
        }
      ]
    },
    {
      "cell_type": "code",
      "source": [
        "#9\n",
        "import numpy as np\n",
        "\n",
        "D = np.array([[3, 2], [1, 4]])\n",
        "E = np.array([[1], [0]])\n",
        "F = np.array([[0], [1]])\n",
        "G = np.array([[1], [1]])\n",
        "\n",
        "DE = np.dot(D, E)\n",
        "DF = np.dot(D, F)\n",
        "DG = np.dot(D, G)\n",
        "\n",
        "autovalores, autovectores = np.linalg.eig(D)\n",
        "\n",
        "print(\"DE:\", DE)\n",
        "print(\"DF:\", DF)\n",
        "print(\"DG:\", DG)\n",
        "print(\"Autovalores:\", autovalores)\n",
        "print(\"Autovectores:\", autovectores)\n"
      ],
      "metadata": {
        "colab": {
          "base_uri": "https://localhost:8080/"
        },
        "id": "L2R6c0lQBZnt",
        "outputId": "c497fddc-d7f9-4693-8e13-6de5505a92a3"
      },
      "execution_count": 10,
      "outputs": [
        {
          "output_type": "stream",
          "name": "stdout",
          "text": [
            "DE: [[3]\n",
            " [1]]\n",
            "DF: [[2]\n",
            " [4]]\n",
            "DG: [[5]\n",
            " [5]]\n",
            "Autovalores: [2. 5.]\n",
            "Autovectores: [[-0.89442719 -0.70710678]\n",
            " [ 0.4472136  -0.70710678]]\n"
          ]
        }
      ]
    }
  ]
}