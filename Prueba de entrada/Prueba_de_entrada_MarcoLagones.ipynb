{
  "nbformat": 4,
  "nbformat_minor": 0,
  "metadata": {
    "colab": {
      "provenance": []
    },
    "kernelspec": {
      "name": "python3",
      "display_name": "Python 3"
    },
    "language_info": {
      "name": "python"
    }
  },
  "cells": [
    {
      "cell_type": "code",
      "execution_count": null,
      "metadata": {
        "id": "uxaFkE79_zBU"
      },
      "outputs": [],
      "source": [
        "import numpy as np\n",
        "\n",
        "#Ejercicio 1\n",
        "a1=[-1,2,-3,4,5,-6,7,8,-9,10]\n",
        "a2=[]\n",
        "for i in range(0,len(a1)):\n",
        "  a2.append(a1[i])\n",
        "print(a2)\n",
        "\n",
        "#Ejercicio 2\n",
        "a3=np.array([\n",
        "    [1.23, 2.34, 3.45],\n",
        "    [4.56, 5.67, 6.78],\n",
        "    [7.89, 8.90, 9.01]\n",
        "])\n",
        "print(a3)\n",
        "\n",
        "#Ejercicio 3\n",
        "A=np.array([\n",
        "    [1, 2, 3],\n",
        "    [4, 5, 6],\n",
        "    [7, 8, 9]\n",
        "])\n",
        "B=np.array([\n",
        "    [1, 2, 3]\n",
        "])\n",
        "C=np.array([\n",
        "    [4, 5, 6]\n",
        "])\n",
        "D=np.dot(A,B)+C\n",
        "print(np.dot(A,B)+C)\n",
        "\n",
        "#Ejercicio 4\n",
        "a4=np.arange(1, 101)\n",
        "a4_mod=np.where(a4//3, \"m3\", a4)\n",
        "\n",
        "#Ejercicio 5\n",
        "D_traza=np.trace(D)"
      ]
    }
  ]
}